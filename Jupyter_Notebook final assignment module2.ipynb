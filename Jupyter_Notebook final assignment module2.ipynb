{
 "cells": [
  {
   "cell_type": "markdown",
   "metadata": {},
   "source": [
    "<center>\n",
    "    <img src=\"https://s3-api.us-geo.objectstorage.softlayer.net/cf-courses-data/CognitiveClass/Logos/organization_logo/organization_logo.png\" width=\"300\" alt=\"cognitiveclass.ai logo\"  />\n",
    "</center>\n"
   ]
  },
  {
   "cell_type": "markdown",
   "metadata": {},
   "source": [
    "#### Add your code below following the instructions given in the course\n"
   ]
  },
  {
   "cell_type": "markdown",
   "metadata": {},
   "source": [
    "<h1>My Jupyter Notebook on IBM Watson Studio</h1>"
   ]
  },
  {
   "cell_type": "markdown",
   "metadata": {},
   "source": [
    "<b>Shahzaib Kiani</b> <br>\n",
    "My current occupation is teacher and i want to be a data scientist."
   ]
  },
  {
   "cell_type": "markdown",
   "metadata": {},
   "source": [
    "<i>I am interested in data science because my natural skills atract this profession, i am always looking for answers and i know how to get answers beacause its my passion.</i>"
   ]
  },
  {
   "cell_type": "markdown",
   "metadata": {},
   "source": [
    "<h3> first of all i take two variables a & b and assign values to them. After that i will add them</h3>"
   ]
  },
  {
   "cell_type": "code",
   "execution_count": 2,
   "metadata": {},
   "outputs": [
    {
     "name": "stdout",
     "output_type": "stream",
     "text": [
      "78\n"
     ]
    }
   ],
   "source": [
    "a=47\n",
    "b=31\n",
    "c=a+b\n",
    "print(c)"
   ]
  },
  {
   "attachments": {
    "images.jpg": {
     "image/jpeg": "[encoded data removed]"
    }
   },
   "cell_type": "markdown",
   "metadata": {},
   "source": [
    "---\n",
    "<a href=\"https://www.upgrad.com/blog/data-science-programming-languages/#:~:text=Python%20is%20the%20most%20widely,around%20since%20the%20year%201991.\">languages you should learn</a>\n",
    "1. python\n",
    "2. javascript\n",
    "3. Scala\n",
    "4. R\n",
    "5. sql\n",
    "6. julia\n",
    "\n",
    "`Skills you need!`\n",
    "- msexel\n",
    "- tabelu\n",
    "- communication skills\n",
    "\n",
    "| Name | Region | Passion |\n",
    "|---|---|---|\n",
    "| aslam|asia|cricket|\n",
    "|misbah|assia|football| \n",
    "|sara|gulf|music|\n",
    "|Adam|australia|coading|\n",
    "> ~~I am learnig data science~~\n",
    "![images.jpg](attachment:images.jpg)"
   ]
  },
  {
   "cell_type": "code",
   "execution_count": null,
   "metadata": {},
   "outputs": [],
   "source": []
  }
 ],
 "metadata": {
  "kernelspec": {
   "display_name": "Python 3 (ipykernel)",
   "language": "python",
   "name": "python3"
  },
  "language_info": {
   "codemirror_mode": {
    "name": "ipython",
    "version": 3
   },
   "file_extension": ".py",
   "mimetype": "text/x-python",
   "name": "python",
   "nbconvert_exporter": "python",
   "pygments_lexer": "ipython3",
   "version": "3.9.12"
  }
 },
 "nbformat": 4,
 "nbformat_minor": 4
}
